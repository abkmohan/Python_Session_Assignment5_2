{
 "cells": [
  {
   "cell_type": "code",
   "execution_count": 6,
   "metadata": {},
   "outputs": [
    {
     "name": "stdout",
     "output_type": "stream",
     "text": [
      "Americans play Baseball.\n",
      "Americans play Cricket.\n",
      "Americans watch Baseball.\n",
      "Americans watch Cricket.\n",
      "Indians play Baseball.\n",
      "Indians play Cricket.\n",
      "Indians watch Baseball.\n",
      "Indians watch Cricket.\n"
     ]
    }
   ],
   "source": [
    "#Course: Data Science Masters\n",
    "#Title: Python - Assignment 5.2\n",
    "#Problem Statement: Implement a Python program to generate all sentences where subject is in\n",
    "#                   [\"Americans\", \"Indians\"] and verb is in [\"Play\", \"watch\"] and the object is in\n",
    "#                   [\"Baseball\",\"cricket\"].\n",
    "#Tool: Jupyter notebook \n",
    "#Author: Krishna A\n",
    "#Date: 23-2-2018 (DD/MM/YYYY)\n",
    "\n",
    "subjects = [\"Americans\", \"Indians\"]\n",
    "verbs = [\"play\",\"watch\"]\n",
    "objects = [\"Baseball\",\"Cricket\"]\n",
    "\n",
    "for iLoop1 in (0,1):\n",
    "    sPlayers = subjects[iLoop1]\n",
    "    for iLoop2 in (0,1):\n",
    "        sVerb = verbs[iLoop2]\n",
    "        for iLoop3 in (0,1):\n",
    "            print(sPlayers + \" \" + sVerb + \" \" + objects[iLoop3] + \".\")\n",
    "\n"
   ]
  },
  {
   "cell_type": "code",
   "execution_count": null,
   "metadata": {
    "collapsed": true
   },
   "outputs": [],
   "source": []
  }
 ],
 "metadata": {
  "kernelspec": {
   "display_name": "Python 3",
   "language": "python",
   "name": "python3"
  },
  "language_info": {
   "codemirror_mode": {
    "name": "ipython",
    "version": 3
   },
   "file_extension": ".py",
   "mimetype": "text/x-python",
   "name": "python",
   "nbconvert_exporter": "python",
   "pygments_lexer": "ipython3",
   "version": "3.6.3"
  }
 },
 "nbformat": 4,
 "nbformat_minor": 2
}
